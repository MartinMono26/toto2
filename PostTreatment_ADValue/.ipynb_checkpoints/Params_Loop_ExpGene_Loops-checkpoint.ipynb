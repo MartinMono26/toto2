{
 "cells": [
  {
   "cell_type": "code",
   "execution_count": 2,
   "metadata": {},
   "outputs": [],
   "source": [
    "import os, re\n",
    "import pandas as pd\n",
    "import seaborn as sns\n",
    "import matplotlib.pyplot as plt\n",
    "%matplotlib inline"
   ]
  },
  {
   "cell_type": "code",
   "execution_count": 3,
   "metadata": {},
   "outputs": [],
   "source": [
    "dirRun = 'ID1001_POC_Nissan__4_Run'"
   ]
  },
  {
   "cell_type": "code",
   "execution_count": 4,
   "metadata": {},
   "outputs": [],
   "source": [
    "Prefix = 'test_ID1001_POC_Nissan.ADValue.l'\n",
    "Suffix = '_Run.csv'"
   ]
  },
  {
   "cell_type": "code",
   "execution_count": 5,
   "metadata": {},
   "outputs": [
    {
     "data": {
      "text/plain": [
       "['ID1001_POC_Nissan__4_Run\\\\test_ID1001_POC_Nissan.ADValue.l0_Run.csv',\n",
       " 'ID1001_POC_Nissan__4_Run\\\\test_ID1001_POC_Nissan.ADValue.l1_Run.csv',\n",
       " 'ID1001_POC_Nissan__4_Run\\\\test_ID1001_POC_Nissan.ADValue.l2_Run.csv',\n",
       " 'ID1001_POC_Nissan__4_Run\\\\test_ID1001_POC_Nissan.ADValue.l3_Run.csv',\n",
       " 'ID1001_POC_Nissan__4_Run\\\\test_ID1001_POC_Nissan.ADValue.l4_Run.csv',\n",
       " 'ID1001_POC_Nissan__4_Run\\\\test_ID1001_POC_Nissan.ADValue.l5_Run.csv',\n",
       " 'ID1001_POC_Nissan__4_Run\\\\test_ID1001_POC_Nissan.ADValue.l6_Run.csv',\n",
       " 'ID1001_POC_Nissan__4_Run\\\\test_ID1001_POC_Nissan.ADValue.l7_Run.csv']"
      ]
     },
     "execution_count": 5,
     "metadata": {},
     "output_type": "execute_result"
    }
   ],
   "source": [
    "# Getting all result files\n",
    "Run_files = []\n",
    "for file in os.listdir(dirRun):\n",
    "    if file[:len(Prefix)] == Prefix and file[-len(Suffix):] == Suffix:\n",
    "#         print(file)\n",
    "        Run_files.append(os.path.join(dirRun,file))\n",
    "Run_files"
   ]
  },
  {
   "cell_type": "code",
   "execution_count": 6,
   "metadata": {},
   "outputs": [],
   "source": [
    "Run_dfs = []\n",
    "[Run_dfs.append(pd.read_csv(file, sep = ';')) for file in Run_files];"
   ]
  },
  {
   "cell_type": "code",
   "execution_count": 7,
   "metadata": {},
   "outputs": [
    {
     "data": {
      "text/plain": [
       "(1800, 38)"
      ]
     },
     "execution_count": 7,
     "metadata": {},
     "output_type": "execute_result"
    }
   ],
   "source": [
    "tcs = pd.concat(Run_dfs)\n",
    "tcs.shape"
   ]
  },
  {
   "cell_type": "code",
   "execution_count": 8,
   "metadata": {},
   "outputs": [],
   "source": [
    "# A VIRER\n",
    "tcs = tcs[:800]"
   ]
  },
  {
   "cell_type": "code",
   "execution_count": 9,
   "metadata": {},
   "outputs": [],
   "source": [
    "loopnum_col = list(tcs['LoopNum'])"
   ]
  },
  {
   "cell_type": "code",
   "execution_count": 10,
   "metadata": {},
   "outputs": [],
   "source": [
    "expgene_col = list(tcs['ExpGene'])"
   ]
  },
  {
   "cell_type": "code",
   "execution_count": 11,
   "metadata": {},
   "outputs": [],
   "source": [
    "# tcs.dtypes"
   ]
  },
  {
   "cell_type": "code",
   "execution_count": 12,
   "metadata": {},
   "outputs": [
    {
     "data": {
      "text/plain": [
       "['relativelongitudinaldistance1',\n",
       " 'relativespeed1',\n",
       " 'acceleration1',\n",
       " 'relativelongitudinaldistance2',\n",
       " 'relativespeed2',\n",
       " 'acceleration2',\n",
       " 'acceleration3']"
      ]
     },
     "execution_count": 12,
     "metadata": {},
     "output_type": "execute_result"
    }
   ],
   "source": [
    "quanti_params = [col for col in tcs.columns if \\\n",
    "                   (len(tcs[col].unique()) != 1)\n",
    "                   and ('_num' not in col) \n",
    "                   and (tcs[col].dtype in ['int64', 'float64']) \\\n",
    "                   and (col not in ['LoopNum']) \\\n",
    "                   and ('closestdistance' not in col.lower())]\n",
    "quanti_params"
   ]
  },
  {
   "cell_type": "code",
   "execution_count": 14,
   "metadata": {
    "scrolled": true
   },
   "outputs": [
    {
     "data": {
      "text/html": [
       "<div>\n",
       "<style scoped>\n",
       "    .dataframe tbody tr th:only-of-type {\n",
       "        vertical-align: middle;\n",
       "    }\n",
       "\n",
       "    .dataframe tbody tr th {\n",
       "        vertical-align: top;\n",
       "    }\n",
       "\n",
       "    .dataframe thead th {\n",
       "        text-align: right;\n",
       "    }\n",
       "</style>\n",
       "<table border=\"1\" class=\"dataframe\">\n",
       "  <thead>\n",
       "    <tr style=\"text-align: right;\">\n",
       "      <th></th>\n",
       "      <th>LoopNum</th>\n",
       "      <th>ExpGene</th>\n",
       "      <th>relativelongitudinaldistance1</th>\n",
       "      <th>relativespeed1</th>\n",
       "      <th>acceleration1</th>\n",
       "      <th>relativelongitudinaldistance2</th>\n",
       "      <th>relativespeed2</th>\n",
       "      <th>acceleration2</th>\n",
       "      <th>acceleration3</th>\n",
       "    </tr>\n",
       "  </thead>\n",
       "  <tbody>\n",
       "    <tr>\n",
       "      <th>0</th>\n",
       "      <td>0</td>\n",
       "      <td>Random_InitDOE</td>\n",
       "      <td>10.1</td>\n",
       "      <td>-8</td>\n",
       "      <td>0.8</td>\n",
       "      <td>-50.7</td>\n",
       "      <td>6</td>\n",
       "      <td>0.7</td>\n",
       "      <td>0.5</td>\n",
       "    </tr>\n",
       "    <tr>\n",
       "      <th>1</th>\n",
       "      <td>0</td>\n",
       "      <td>Random_InitDOE</td>\n",
       "      <td>64.5</td>\n",
       "      <td>-17</td>\n",
       "      <td>1.5</td>\n",
       "      <td>-73.6</td>\n",
       "      <td>27</td>\n",
       "      <td>0.1</td>\n",
       "      <td>1.6</td>\n",
       "    </tr>\n",
       "    <tr>\n",
       "      <th>2</th>\n",
       "      <td>0</td>\n",
       "      <td>Random_InitDOE</td>\n",
       "      <td>59.5</td>\n",
       "      <td>-12</td>\n",
       "      <td>0.0</td>\n",
       "      <td>-5.6</td>\n",
       "      <td>17</td>\n",
       "      <td>-0.7</td>\n",
       "      <td>1.4</td>\n",
       "    </tr>\n",
       "    <tr>\n",
       "      <th>3</th>\n",
       "      <td>0</td>\n",
       "      <td>Random_InitDOE</td>\n",
       "      <td>23.8</td>\n",
       "      <td>9</td>\n",
       "      <td>-1.8</td>\n",
       "      <td>-48.0</td>\n",
       "      <td>-10</td>\n",
       "      <td>1.3</td>\n",
       "      <td>0.2</td>\n",
       "    </tr>\n",
       "    <tr>\n",
       "      <th>4</th>\n",
       "      <td>0</td>\n",
       "      <td>Random_InitDOE</td>\n",
       "      <td>-76.9</td>\n",
       "      <td>-5</td>\n",
       "      <td>1.9</td>\n",
       "      <td>-73.4</td>\n",
       "      <td>19</td>\n",
       "      <td>-1.4</td>\n",
       "      <td>0.3</td>\n",
       "    </tr>\n",
       "  </tbody>\n",
       "</table>\n",
       "</div>"
      ],
      "text/plain": [
       "   LoopNum         ExpGene  relativelongitudinaldistance1  relativespeed1  \\\n",
       "0        0  Random_InitDOE                           10.1              -8   \n",
       "1        0  Random_InitDOE                           64.5             -17   \n",
       "2        0  Random_InitDOE                           59.5             -12   \n",
       "3        0  Random_InitDOE                           23.8               9   \n",
       "4        0  Random_InitDOE                          -76.9              -5   \n",
       "\n",
       "   acceleration1  relativelongitudinaldistance2  relativespeed2  \\\n",
       "0            0.8                          -50.7               6   \n",
       "1            1.5                          -73.6              27   \n",
       "2            0.0                           -5.6              17   \n",
       "3           -1.8                          -48.0             -10   \n",
       "4            1.9                          -73.4              19   \n",
       "\n",
       "   acceleration2  acceleration3  \n",
       "0            0.7            0.5  \n",
       "1            0.1            1.6  \n",
       "2           -0.7            1.4  \n",
       "3            1.3            0.2  \n",
       "4           -1.4            0.3  "
      ]
     },
     "execution_count": 14,
     "metadata": {},
     "output_type": "execute_result"
    }
   ],
   "source": [
    "# Conservation des valeurs de paraletres quanti\n",
    "quanti_df = tcs[['LoopNum', 'ExpGene'] + quanti_params]\n",
    "quanti_df.head()"
   ]
  },
  {
   "cell_type": "code",
   "execution_count": null,
   "metadata": {},
   "outputs": [],
   "source": []
  },
  {
   "cell_type": "code",
   "execution_count": null,
   "metadata": {},
   "outputs": [],
   "source": []
  }
 ],
 "metadata": {
  "kernelspec": {
   "display_name": "Python 3",
   "language": "python",
   "name": "python3"
  },
  "language_info": {
   "codemirror_mode": {
    "name": "ipython",
    "version": 3
   },
   "file_extension": ".py",
   "mimetype": "text/x-python",
   "name": "python",
   "nbconvert_exporter": "python",
   "pygments_lexer": "ipython3",
   "version": "3.7.2"
  }
 },
 "nbformat": 4,
 "nbformat_minor": 2
}
