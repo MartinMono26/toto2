{
 "cells": [
  {
   "cell_type": "code",
   "execution_count": 1,
   "metadata": {},
   "outputs": [],
   "source": [
    "import os, re\n",
    "import pandas as pd\n",
    "import seaborn as sns\n",
    "import matplotlib.pyplot as plt\n",
    "%matplotlib inline"
   ]
  },
  {
   "cell_type": "code",
   "execution_count": 2,
   "metadata": {},
   "outputs": [],
   "source": [
    "dirRun = 'ID1001_POC_Nissan__4_Run'"
   ]
  },
  {
   "cell_type": "code",
   "execution_count": 3,
   "metadata": {},
   "outputs": [],
   "source": [
    "Prefix = 'test_ID1001_POC_Nissan.ADValue.l'\n",
    "Suffix = '_Run.csv'"
   ]
  },
  {
   "cell_type": "code",
   "execution_count": 4,
   "metadata": {},
   "outputs": [
    {
     "data": {
      "text/plain": [
       "['ID1001_POC_Nissan__4_Run\\\\test_ID1001_POC_Nissan.ADValue.l0_Run.csv',\n",
       " 'ID1001_POC_Nissan__4_Run\\\\test_ID1001_POC_Nissan.ADValue.l1_Run.csv',\n",
       " 'ID1001_POC_Nissan__4_Run\\\\test_ID1001_POC_Nissan.ADValue.l2_Run.csv',\n",
       " 'ID1001_POC_Nissan__4_Run\\\\test_ID1001_POC_Nissan.ADValue.l3_Run.csv',\n",
       " 'ID1001_POC_Nissan__4_Run\\\\test_ID1001_POC_Nissan.ADValue.l4_Run.csv',\n",
       " 'ID1001_POC_Nissan__4_Run\\\\test_ID1001_POC_Nissan.ADValue.l5_Run.csv',\n",
       " 'ID1001_POC_Nissan__4_Run\\\\test_ID1001_POC_Nissan.ADValue.l6_Run.csv',\n",
       " 'ID1001_POC_Nissan__4_Run\\\\test_ID1001_POC_Nissan.ADValue.l7_Run.csv']"
      ]
     },
     "execution_count": 4,
     "metadata": {},
     "output_type": "execute_result"
    }
   ],
   "source": [
    "# Getting all result files\n",
    "Run_files = []\n",
    "for file in os.listdir(dirRun):\n",
    "    if file[:len(Prefix)] == Prefix and file[-len(Suffix):] == Suffix:\n",
    "#         print(file)\n",
    "        Run_files.append(os.path.join(dirRun,file))\n",
    "Run_files"
   ]
  },
  {
   "cell_type": "code",
   "execution_count": 5,
   "metadata": {},
   "outputs": [],
   "source": [
    "Run_dfs = []\n",
    "[Run_dfs.append(pd.read_csv(file, sep = ';')) for file in Run_files];"
   ]
  },
  {
   "cell_type": "code",
   "execution_count": 6,
   "metadata": {},
   "outputs": [
    {
     "data": {
      "text/plain": [
       "(1800, 38)"
      ]
     },
     "execution_count": 6,
     "metadata": {},
     "output_type": "execute_result"
    }
   ],
   "source": [
    "tcs = pd.concat(Run_dfs)\n",
    "tcs.shape"
   ]
  },
  {
   "cell_type": "code",
   "execution_count": 7,
   "metadata": {},
   "outputs": [],
   "source": [
    "# A VIRER\n",
    "tcs = tcs[:800]"
   ]
  },
  {
   "cell_type": "code",
   "execution_count": 8,
   "metadata": {},
   "outputs": [],
   "source": [
    "loopnum_col = list(tcs['LoopNum'])"
   ]
  },
  {
   "cell_type": "code",
   "execution_count": 9,
   "metadata": {},
   "outputs": [],
   "source": [
    "expgene_col = list(tcs['ExpGene'])"
   ]
  },
  {
   "cell_type": "code",
   "execution_count": 10,
   "metadata": {},
   "outputs": [],
   "source": [
    "# tcs.dtypes"
   ]
  },
  {
   "cell_type": "code",
   "execution_count": 11,
   "metadata": {},
   "outputs": [
    {
     "data": {
      "text/plain": [
       "['relativelongitudinaldistance1',\n",
       " 'relativespeed1',\n",
       " 'acceleration1',\n",
       " 'relativelongitudinaldistance2',\n",
       " 'relativespeed2',\n",
       " 'acceleration2',\n",
       " 'acceleration3']"
      ]
     },
     "execution_count": 11,
     "metadata": {},
     "output_type": "execute_result"
    }
   ],
   "source": [
    "quanti_params = [col for col in tcs.columns if \\\n",
    "                   (len(tcs[col].unique()) != 1)\n",
    "                   and ('_num' not in col) \n",
    "                   and (tcs[col].dtype in ['int64', 'float64']) \\\n",
    "                   and (col not in ['LoopNum']) \\\n",
    "                   and ('closestdistance' not in col.lower())]\n",
    "quanti_params"
   ]
  },
  {
   "cell_type": "code",
   "execution_count": 12,
   "metadata": {},
   "outputs": [
    {
     "data": {
      "text/html": [
       "<div>\n",
       "<style scoped>\n",
       "    .dataframe tbody tr th:only-of-type {\n",
       "        vertical-align: middle;\n",
       "    }\n",
       "\n",
       "    .dataframe tbody tr th {\n",
       "        vertical-align: top;\n",
       "    }\n",
       "\n",
       "    .dataframe thead th {\n",
       "        text-align: right;\n",
       "    }\n",
       "</style>\n",
       "<table border=\"1\" class=\"dataframe\">\n",
       "  <thead>\n",
       "    <tr style=\"text-align: right;\">\n",
       "      <th></th>\n",
       "      <th>relativelongitudinaldistance1</th>\n",
       "      <th>relativespeed1</th>\n",
       "      <th>acceleration1</th>\n",
       "      <th>relativelongitudinaldistance2</th>\n",
       "      <th>relativespeed2</th>\n",
       "      <th>acceleration2</th>\n",
       "      <th>acceleration3</th>\n",
       "    </tr>\n",
       "  </thead>\n",
       "  <tbody>\n",
       "    <tr>\n",
       "      <th>0</th>\n",
       "      <td>10.1</td>\n",
       "      <td>-8</td>\n",
       "      <td>0.8</td>\n",
       "      <td>-50.7</td>\n",
       "      <td>6</td>\n",
       "      <td>0.7</td>\n",
       "      <td>0.5</td>\n",
       "    </tr>\n",
       "    <tr>\n",
       "      <th>1</th>\n",
       "      <td>64.5</td>\n",
       "      <td>-17</td>\n",
       "      <td>1.5</td>\n",
       "      <td>-73.6</td>\n",
       "      <td>27</td>\n",
       "      <td>0.1</td>\n",
       "      <td>1.6</td>\n",
       "    </tr>\n",
       "    <tr>\n",
       "      <th>2</th>\n",
       "      <td>59.5</td>\n",
       "      <td>-12</td>\n",
       "      <td>0.0</td>\n",
       "      <td>-5.6</td>\n",
       "      <td>17</td>\n",
       "      <td>-0.7</td>\n",
       "      <td>1.4</td>\n",
       "    </tr>\n",
       "    <tr>\n",
       "      <th>3</th>\n",
       "      <td>23.8</td>\n",
       "      <td>9</td>\n",
       "      <td>-1.8</td>\n",
       "      <td>-48.0</td>\n",
       "      <td>-10</td>\n",
       "      <td>1.3</td>\n",
       "      <td>0.2</td>\n",
       "    </tr>\n",
       "    <tr>\n",
       "      <th>4</th>\n",
       "      <td>-76.9</td>\n",
       "      <td>-5</td>\n",
       "      <td>1.9</td>\n",
       "      <td>-73.4</td>\n",
       "      <td>19</td>\n",
       "      <td>-1.4</td>\n",
       "      <td>0.3</td>\n",
       "    </tr>\n",
       "  </tbody>\n",
       "</table>\n",
       "</div>"
      ],
      "text/plain": [
       "   relativelongitudinaldistance1  relativespeed1  acceleration1  \\\n",
       "0                           10.1              -8            0.8   \n",
       "1                           64.5             -17            1.5   \n",
       "2                           59.5             -12            0.0   \n",
       "3                           23.8               9           -1.8   \n",
       "4                          -76.9              -5            1.9   \n",
       "\n",
       "   relativelongitudinaldistance2  relativespeed2  acceleration2  acceleration3  \n",
       "0                          -50.7               6            0.7            0.5  \n",
       "1                          -73.6              27            0.1            1.6  \n",
       "2                           -5.6              17           -0.7            1.4  \n",
       "3                          -48.0             -10            1.3            0.2  \n",
       "4                          -73.4              19           -1.4            0.3  "
      ]
     },
     "execution_count": 12,
     "metadata": {},
     "output_type": "execute_result"
    }
   ],
   "source": [
    "# Conservation des valeurs de paraletres quanti\n",
    "quanti_df = tcs[quanti_params]\n",
    "quanti_df.head()"
   ]
  },
  {
   "cell_type": "code",
   "execution_count": 13,
   "metadata": {},
   "outputs": [
    {
     "data": {
      "text/html": [
       "<div>\n",
       "<style scoped>\n",
       "    .dataframe tbody tr th:only-of-type {\n",
       "        vertical-align: middle;\n",
       "    }\n",
       "\n",
       "    .dataframe tbody tr th {\n",
       "        vertical-align: top;\n",
       "    }\n",
       "\n",
       "    .dataframe thead th {\n",
       "        text-align: right;\n",
       "    }\n",
       "</style>\n",
       "<table border=\"1\" class=\"dataframe\">\n",
       "  <thead>\n",
       "    <tr style=\"text-align: right;\">\n",
       "      <th></th>\n",
       "      <th></th>\n",
       "      <th>vals</th>\n",
       "    </tr>\n",
       "  </thead>\n",
       "  <tbody>\n",
       "    <tr>\n",
       "      <th rowspan=\"5\" valign=\"top\">relativelongitudinaldistance1</th>\n",
       "      <th>0</th>\n",
       "      <td>10.1</td>\n",
       "    </tr>\n",
       "    <tr>\n",
       "      <th>1</th>\n",
       "      <td>64.5</td>\n",
       "    </tr>\n",
       "    <tr>\n",
       "      <th>2</th>\n",
       "      <td>59.5</td>\n",
       "    </tr>\n",
       "    <tr>\n",
       "      <th>3</th>\n",
       "      <td>23.8</td>\n",
       "    </tr>\n",
       "    <tr>\n",
       "      <th>4</th>\n",
       "      <td>-76.9</td>\n",
       "    </tr>\n",
       "  </tbody>\n",
       "</table>\n",
       "</div>"
      ],
      "text/plain": [
       "                                 vals\n",
       "relativelongitudinaldistance1 0  10.1\n",
       "                              1  64.5\n",
       "                              2  59.5\n",
       "                              3  23.8\n",
       "                              4 -76.9"
      ]
     },
     "execution_count": 13,
     "metadata": {},
     "output_type": "execute_result"
    }
   ],
   "source": [
    "# Unfolding\n",
    "qpu = pd.DataFrame(quanti_df.unstack())\n",
    "qpu.columns = ['vals']\n",
    "qpu.head()\n",
    "# qp.unstack()"
   ]
  },
  {
   "cell_type": "code",
   "execution_count": 19,
   "metadata": {},
   "outputs": [
    {
     "name": "stdout",
     "output_type": "stream",
     "text": [
      "800\n"
     ]
    }
   ],
   "source": [
    "# Ajout de colonnes repetees Loopnum et ExpGene\n",
    "dat = qpu.copy()\n",
    "print(len(loopnum_col))\n",
    "dat['LoopNum'] = len(quanti_params) * loopnum_col\n",
    "dat['ExpGene'] = len(quanti_params) * expgene_col\n",
    "# qp.head()"
   ]
  },
  {
   "cell_type": "code",
   "execution_count": 20,
   "metadata": {},
   "outputs": [
    {
     "data": {
      "text/html": [
       "<div>\n",
       "<style scoped>\n",
       "    .dataframe tbody tr th:only-of-type {\n",
       "        vertical-align: middle;\n",
       "    }\n",
       "\n",
       "    .dataframe tbody tr th {\n",
       "        vertical-align: top;\n",
       "    }\n",
       "\n",
       "    .dataframe thead th {\n",
       "        text-align: right;\n",
       "    }\n",
       "</style>\n",
       "<table border=\"1\" class=\"dataframe\">\n",
       "  <thead>\n",
       "    <tr style=\"text-align: right;\">\n",
       "      <th></th>\n",
       "      <th>level_0</th>\n",
       "      <th>level_1</th>\n",
       "      <th>vals</th>\n",
       "      <th>LoopNum</th>\n",
       "      <th>ExpGene</th>\n",
       "    </tr>\n",
       "  </thead>\n",
       "  <tbody>\n",
       "    <tr>\n",
       "      <th>0</th>\n",
       "      <td>relativelongitudinaldistance1</td>\n",
       "      <td>0</td>\n",
       "      <td>10.1</td>\n",
       "      <td>0</td>\n",
       "      <td>Random_InitDOE</td>\n",
       "    </tr>\n",
       "    <tr>\n",
       "      <th>1</th>\n",
       "      <td>relativelongitudinaldistance1</td>\n",
       "      <td>1</td>\n",
       "      <td>64.5</td>\n",
       "      <td>0</td>\n",
       "      <td>Random_InitDOE</td>\n",
       "    </tr>\n",
       "    <tr>\n",
       "      <th>2</th>\n",
       "      <td>relativelongitudinaldistance1</td>\n",
       "      <td>2</td>\n",
       "      <td>59.5</td>\n",
       "      <td>0</td>\n",
       "      <td>Random_InitDOE</td>\n",
       "    </tr>\n",
       "    <tr>\n",
       "      <th>3</th>\n",
       "      <td>relativelongitudinaldistance1</td>\n",
       "      <td>3</td>\n",
       "      <td>23.8</td>\n",
       "      <td>0</td>\n",
       "      <td>Random_InitDOE</td>\n",
       "    </tr>\n",
       "    <tr>\n",
       "      <th>4</th>\n",
       "      <td>relativelongitudinaldistance1</td>\n",
       "      <td>4</td>\n",
       "      <td>-76.9</td>\n",
       "      <td>0</td>\n",
       "      <td>Random_InitDOE</td>\n",
       "    </tr>\n",
       "  </tbody>\n",
       "</table>\n",
       "</div>"
      ],
      "text/plain": [
       "                         level_0  level_1  vals  LoopNum         ExpGene\n",
       "0  relativelongitudinaldistance1        0  10.1        0  Random_InitDOE\n",
       "1  relativelongitudinaldistance1        1  64.5        0  Random_InitDOE\n",
       "2  relativelongitudinaldistance1        2  59.5        0  Random_InitDOE\n",
       "3  relativelongitudinaldistance1        3  23.8        0  Random_InitDOE\n",
       "4  relativelongitudinaldistance1        4 -76.9        0  Random_InitDOE"
      ]
     },
     "execution_count": 20,
     "metadata": {},
     "output_type": "execute_result"
    }
   ],
   "source": [
    "# Reset index\n",
    "dat.reset_index(inplace=True)\n",
    "dat.head()"
   ]
  },
  {
   "cell_type": "code",
   "execution_count": 21,
   "metadata": {},
   "outputs": [
    {
     "data": {
      "text/plain": [
       "(5600, 5)"
      ]
     },
     "execution_count": 21,
     "metadata": {},
     "output_type": "execute_result"
    }
   ],
   "source": [
    "dat.shape"
   ]
  },
  {
   "cell_type": "code",
   "execution_count": null,
   "metadata": {},
   "outputs": [],
   "source": []
  },
  {
   "cell_type": "code",
   "execution_count": 22,
   "metadata": {},
   "outputs": [],
   "source": [
    "# A VIRER\n",
    "# dat = dat[dat['level_0'] in ['relativelongitudinaldistance1', 'relativespeed1']]"
   ]
  },
  {
   "cell_type": "code",
   "execution_count": 23,
   "metadata": {},
   "outputs": [
    {
     "ename": "TypeError",
     "evalue": "boxplot() got an unexpected keyword argument 'color'",
     "output_type": "error",
     "traceback": [
      "\u001b[1;31m---------------------------------------------------------------------------\u001b[0m",
      "\u001b[1;31mTypeError\u001b[0m                                 Traceback (most recent call last)",
      "\u001b[1;32m<ipython-input-23-7b029aeea7b9>\u001b[0m in \u001b[0;36m<module>\u001b[1;34m\u001b[0m\n\u001b[0;32m      1\u001b[0m \u001b[0mg\u001b[0m \u001b[1;33m=\u001b[0m \u001b[0msns\u001b[0m\u001b[1;33m.\u001b[0m\u001b[0mFacetGrid\u001b[0m\u001b[1;33m(\u001b[0m\u001b[0mdat\u001b[0m\u001b[1;33m,\u001b[0m \u001b[0mrow\u001b[0m\u001b[1;33m=\u001b[0m\u001b[1;34m\"level_0\"\u001b[0m\u001b[1;33m,\u001b[0m \u001b[0mhue\u001b[0m \u001b[1;33m=\u001b[0m \u001b[1;34m'LoopNum'\u001b[0m\u001b[1;33m,\u001b[0m \u001b[0mpalette\u001b[0m \u001b[1;33m=\u001b[0m \u001b[1;34m'Set1'\u001b[0m\u001b[1;33m)\u001b[0m\u001b[1;33m\u001b[0m\u001b[1;33m\u001b[0m\u001b[0m\n\u001b[1;32m----> 2\u001b[1;33m \u001b[0mg\u001b[0m \u001b[1;33m=\u001b[0m \u001b[0mg\u001b[0m\u001b[1;33m.\u001b[0m\u001b[0mmap\u001b[0m\u001b[1;33m(\u001b[0m\u001b[0mplt\u001b[0m\u001b[1;33m.\u001b[0m\u001b[0mboxplot\u001b[0m\u001b[1;33m,\u001b[0m \u001b[1;34m\"ExpGene\"\u001b[0m\u001b[1;33m,\u001b[0m \u001b[1;34m\"vals\"\u001b[0m\u001b[1;33m)\u001b[0m\u001b[1;33m\u001b[0m\u001b[1;33m\u001b[0m\u001b[0m\n\u001b[0m\u001b[0;32m      3\u001b[0m \u001b[1;33m\u001b[0m\u001b[0m\n\u001b[0;32m      4\u001b[0m \u001b[1;31m# PB = MEME ECHELLE EN X :/ (Avec histo)\u001b[0m\u001b[1;33m\u001b[0m\u001b[1;33m\u001b[0m\u001b[1;33m\u001b[0m\u001b[0m\n",
      "\u001b[1;32m~\\AppData\\Local\\Continuum\\anaconda3\\lib\\site-packages\\seaborn\\axisgrid.py\u001b[0m in \u001b[0;36mmap\u001b[1;34m(self, func, *args, **kwargs)\u001b[0m\n\u001b[0;32m    752\u001b[0m \u001b[1;33m\u001b[0m\u001b[0m\n\u001b[0;32m    753\u001b[0m             \u001b[1;31m# Draw the plot\u001b[0m\u001b[1;33m\u001b[0m\u001b[1;33m\u001b[0m\u001b[1;33m\u001b[0m\u001b[0m\n\u001b[1;32m--> 754\u001b[1;33m             \u001b[0mself\u001b[0m\u001b[1;33m.\u001b[0m\u001b[0m_facet_plot\u001b[0m\u001b[1;33m(\u001b[0m\u001b[0mfunc\u001b[0m\u001b[1;33m,\u001b[0m \u001b[0max\u001b[0m\u001b[1;33m,\u001b[0m \u001b[0mplot_args\u001b[0m\u001b[1;33m,\u001b[0m \u001b[0mkwargs\u001b[0m\u001b[1;33m)\u001b[0m\u001b[1;33m\u001b[0m\u001b[1;33m\u001b[0m\u001b[0m\n\u001b[0m\u001b[0;32m    755\u001b[0m \u001b[1;33m\u001b[0m\u001b[0m\n\u001b[0;32m    756\u001b[0m         \u001b[1;31m# Finalize the annotations and layout\u001b[0m\u001b[1;33m\u001b[0m\u001b[1;33m\u001b[0m\u001b[1;33m\u001b[0m\u001b[0m\n",
      "\u001b[1;32m~\\AppData\\Local\\Continuum\\anaconda3\\lib\\site-packages\\seaborn\\axisgrid.py\u001b[0m in \u001b[0;36m_facet_plot\u001b[1;34m(self, func, ax, plot_args, plot_kwargs)\u001b[0m\n\u001b[0;32m    836\u001b[0m \u001b[1;33m\u001b[0m\u001b[0m\n\u001b[0;32m    837\u001b[0m         \u001b[1;31m# Draw the plot\u001b[0m\u001b[1;33m\u001b[0m\u001b[1;33m\u001b[0m\u001b[1;33m\u001b[0m\u001b[0m\n\u001b[1;32m--> 838\u001b[1;33m         \u001b[0mfunc\u001b[0m\u001b[1;33m(\u001b[0m\u001b[1;33m*\u001b[0m\u001b[0mplot_args\u001b[0m\u001b[1;33m,\u001b[0m \u001b[1;33m**\u001b[0m\u001b[0mplot_kwargs\u001b[0m\u001b[1;33m)\u001b[0m\u001b[1;33m\u001b[0m\u001b[1;33m\u001b[0m\u001b[0m\n\u001b[0m\u001b[0;32m    839\u001b[0m \u001b[1;33m\u001b[0m\u001b[0m\n\u001b[0;32m    840\u001b[0m         \u001b[1;31m# Sort out the supporting information\u001b[0m\u001b[1;33m\u001b[0m\u001b[1;33m\u001b[0m\u001b[1;33m\u001b[0m\u001b[0m\n",
      "\u001b[1;31mTypeError\u001b[0m: boxplot() got an unexpected keyword argument 'color'"
     ]
    },
    {
     "data": {
      "image/png": "[encoded data removed]",
      "text/plain": [
       "<Figure size 216x1512 with 7 Axes>"
      ]
     },
     "metadata": {
      "needs_background": "light"
     },
     "output_type": "display_data"
    }
   ],
   "source": [
    "# g = sns.FacetGrid(dat, row=\"level_0\", hue = 'LoopNum', palette = 'Set1')\n",
    "# g = g.map(plt.boxplot, \"ExpGene\", \"vals\")\n",
    "\n",
    "# PB = MEME ECHELLE EN X :/ (Avec histo)"
   ]
  },
  {
   "cell_type": "code",
   "execution_count": 26,
   "metadata": {},
   "outputs": [
    {
     "data": {
      "image/png": "[encoded data removed]",
      "text/plain": [
       "<Figure size 216x1512 with 7 Axes>"
      ]
     },
     "metadata": {
      "needs_background": "light"
     },
     "output_type": "display_data"
    }
   ],
   "source": [
    "# g = sns.FacetGrid(dat, row=\"level_0\", hue = 'LoopNum')\n",
    "# g = g.map(plt.hist, \"vals\")"
   ]
  },
  {
   "cell_type": "code",
   "execution_count": null,
   "metadata": {},
   "outputs": [],
   "source": []
  },
  {
   "cell_type": "code",
   "execution_count": null,
   "metadata": {},
   "outputs": [],
   "source": []
  }
 ],
 "metadata": {
  "kernelspec": {
   "display_name": "Python 3",
   "language": "python",
   "name": "python3"
  },
  "language_info": {
   "codemirror_mode": {
    "name": "ipython",
    "version": 3
   },
   "file_extension": ".py",
   "mimetype": "text/x-python",
   "name": "python",
   "nbconvert_exporter": "python",
   "pygments_lexer": "ipython3",
   "version": "3.7.2"
  }
 },
 "nbformat": 4,
 "nbformat_minor": 2
}
